{
 "cells": [
  {
   "cell_type": "code",
   "execution_count": 0,
   "metadata": {
    "application/vnd.databricks.v1+cell": {
     "cellMetadata": {
      "byteLimit": 2048000,
      "rowLimit": 10000
     },
     "inputWidgets": {},
     "nuid": "37e8bf41-af58-411f-8538-5600e28670ec",
     "showTitle": false,
     "title": ""
    }
   },
   "outputs": [],
   "source": [
    "!pip install apache-airflow\n",
    "!pip install azure-storage-blob==12.19.0"
   ]
  },
  {
   "cell_type": "code",
   "execution_count": 0,
   "metadata": {
    "application/vnd.databricks.v1+cell": {
     "cellMetadata": {
      "byteLimit": 2048000,
      "rowLimit": 10000
     },
     "inputWidgets": {},
     "nuid": "d0da203c-04e9-4750-afcd-9eae8565b464",
     "showTitle": false,
     "title": ""
    }
   },
   "outputs": [],
   "source": [
    "\n",
    "\n",
    "from airflow import DAG\n",
    "import airflow\n",
    "from datetime import datetime, timedelta\n",
    "from airflow.operators.python import PythonOperator\n",
    "from read_raw_data import read_raw_df\n",
    "from transform_data import save_tabular_df\n",
    "from group_data import group_data\n",
    "import logging \n",
    "logger = logging.getLogger(\"Airflow process\")\n",
    "logging.Formatter(\"%(asctime)s:%(levelname)s: %(message)s\")\n",
    "\n",
    "logger.info('Defining args')\n",
    "default_args = {\n",
    "    'owner': 'airflow',\n",
    "    'start_date': datetime(2023, 1, 1),\n",
    "    'depends_on_past': False,\n",
    "    'retries': 1,\n",
    "    'retry_delay': timedelta(minutes=5),\n",
    "}\n",
    "\n",
    "logger.info('Defining DAG')\n",
    "dag = DAG('dbrewery_dl_dag', default_args=default_args, schedule='@daily')\n"
   ]
  },
  {
   "cell_type": "code",
   "execution_count": 0,
   "metadata": {
    "application/vnd.databricks.v1+cell": {
     "cellMetadata": {
      "byteLimit": 2048000,
      "rowLimit": 10000
     },
     "inputWidgets": {},
     "nuid": "26a2961c-8730-42b3-bfaa-9040e75e4ac7",
     "showTitle": false,
     "title": ""
    }
   },
   "outputs": [],
   "source": [
    "\n",
    "logger.info('Creating PythonOperator to read the raw data (Bronze Container)')\n",
    "bc_task = PythonOperator(\n",
    "    task_id='Bronze_container_construiction',\n",
    "    python_callable=read_raw_df,\n",
    "    dag=dag,\n",
    ")\n",
    "\n",
    "logger.info('Creating PythonOperator to transform and save the raw data (Silver Container)')\n",
    "sc_task = PythonOperator(\n",
    "    task_id='Silver_container_construiction',\n",
    "    python_callable=save_tabular_df,\n",
    "    dag=dag,\n",
    ")\n",
    "\n",
    "logger.info('Creating PythonOperator to group by brewery type (Gold Container)')\n",
    "gc_task = PythonOperator(\n",
    "    task_id='Gold_container_construiction',\n",
    "    python_callable=group_data,\n",
    "    dag=dag,\n",
    ")\n",
    "\n"
   ]
  },
  {
   "cell_type": "code",
   "execution_count": 0,
   "metadata": {
    "application/vnd.databricks.v1+cell": {
     "cellMetadata": {
      "byteLimit": 2048000,
      "rowLimit": 10000
     },
     "inputWidgets": {},
     "nuid": "e13e7a89-252a-4941-aeb8-2d92e4ae1e63",
     "showTitle": false,
     "title": ""
    }
   },
   "outputs": [],
   "source": [
    "%%bash \n",
    "airflow db init\n",
    "airflow users create --username admin --firstname Gabriel --lastname Avezum --password 123  --role Admin --email avezumgabriel@gmail.com"
   ]
  },
  {
   "cell_type": "code",
   "execution_count": 0,
   "metadata": {
    "application/vnd.databricks.v1+cell": {
     "cellMetadata": {
      "byteLimit": 2048000,
      "rowLimit": 10000
     },
     "inputWidgets": {},
     "nuid": "fa0d7432-bee9-400c-851e-f4bfc87fa4e5",
     "showTitle": false,
     "title": ""
    }
   },
   "outputs": [],
   "source": [
    "%%bash\n",
    "export AIRFLOW_HOME=$(pwd)"
   ]
  },
  {
   "cell_type": "code",
   "execution_count": 0,
   "metadata": {
    "application/vnd.databricks.v1+cell": {
     "cellMetadata": {
      "byteLimit": 2048000,
      "rowLimit": 10000
     },
     "inputWidgets": {},
     "nuid": "1147acd7-aafb-4287-9c3e-e85df5ad11e1",
     "showTitle": false,
     "title": ""
    }
   },
   "outputs": [],
   "source": [
    "%%bash \n",
    "cd airflow\n",
    "export AIRFLOW_HOME=$(pwd)\n",
    "airflow scheduler"
   ]
  },
  {
   "cell_type": "code",
   "execution_count": 0,
   "metadata": {
    "application/vnd.databricks.v1+cell": {
     "cellMetadata": {
      "byteLimit": 2048000,
      "rowLimit": 10000
     },
     "inputWidgets": {},
     "nuid": "7a280e77-721a-4019-a894-b3aaa013a0c2",
     "showTitle": false,
     "title": ""
    }
   },
   "outputs": [],
   "source": [
    "%sh airflow db init\n"
   ]
  },
  {
   "cell_type": "code",
   "execution_count": 0,
   "metadata": {
    "application/vnd.databricks.v1+cell": {
     "cellMetadata": {
      "byteLimit": 2048000,
      "rowLimit": 10000
     },
     "inputWidgets": {},
     "nuid": "8646beb3-a53a-42d7-a22f-24302e79a7a8",
     "showTitle": false,
     "title": ""
    }
   },
   "outputs": [],
   "source": [
    "%sh airflow webserver --port 8080"
   ]
  },
  {
   "cell_type": "code",
   "execution_count": 0,
   "metadata": {
    "application/vnd.databricks.v1+cell": {
     "cellMetadata": {
      "byteLimit": 2048000,
      "rowLimit": 10000
     },
     "inputWidgets": {},
     "nuid": "09e16631-33a7-4e8f-b407-4fecfd1cf977",
     "showTitle": false,
     "title": ""
    }
   },
   "outputs": [],
   "source": [
    "%sh airflow scheduler"
   ]
  }
 ],
 "metadata": {
  "application/vnd.databricks.v1+notebook": {
   "dashboards": [],
   "language": "python",
   "notebookMetadata": {
    "mostRecentlyExecutedCommandWithImplicitDF": {
     "commandId": 3954283985853289,
     "dataframes": [
      "_sqldf"
     ]
    },
    "pythonIndentUnit": 4
   },
   "notebookName": "Untitled",
   "widgets": {}
  },
  "kernelspec": {
   "display_name": "Python 3 (ipykernel)",
   "language": "python",
   "name": "python3"
  },
  "language_info": {
   "codemirror_mode": {
    "name": "ipython",
    "version": 3
   },
   "file_extension": ".py",
   "mimetype": "text/x-python",
   "name": "python",
   "nbconvert_exporter": "python",
   "pygments_lexer": "ipython3",
   "version": "3.11.5"
  }
 },
 "nbformat": 4,
 "nbformat_minor": 0
}
